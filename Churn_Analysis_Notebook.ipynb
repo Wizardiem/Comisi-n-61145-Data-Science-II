{
 "cells": [
  {
   "cell_type": "markdown",
   "id": "2f9fea0c",
   "metadata": {},
   "source": [
    "\n",
    "# Abstracto\n",
    "El análisis del abandono de clientes en el sector bancario es fundamental para identificar patrones que permitan mejorar las estrategias de retención y, por ende, aumentar la rentabilidad. Este análisis está dirigido a ejecutivos de alto nivel que buscan comprender qué factores influyen en la decisión de un cliente de abandonar el banco.\n"
   ]
  },
  {
   "cell_type": "markdown",
   "id": "2559a4ee",
   "metadata": {},
   "source": [
    "\n",
    "# Preguntas/Hipótesis\n",
    "1. ¿Qué factores influyen más en la decisión de un cliente de abandonar el banco?\n",
    "2. ¿Existen diferencias significativas en la tasa de abandono entre diferentes países o géneros?\n",
    "3. ¿La puntuación crediticia, la edad o la duración de la relación con el banco son predictores importantes del abandono?\n",
    "4. ¿El hecho de tener una tarjeta de crédito o ser un miembro activo reduce la probabilidad de abandono?\n"
   ]
  },
  {
   "cell_type": "code",
   "execution_count": null,
   "id": "b6f53362",
   "metadata": {},
   "outputs": [],
   "source": [
    "\n",
    "# Importación de datos\n",
    "import pandas as pd\n",
    "\n",
    "# Cargar datos\n",
    "file_path = '/mnt/data/Churn_Modelling.csv'\n",
    "df = pd.read_csv(file_path)\n",
    "\n",
    "# Vista previa de los datos\n",
    "df.head()\n"
   ]
  },
  {
   "cell_type": "code",
   "execution_count": null,
   "id": "05af833e",
   "metadata": {},
   "outputs": [],
   "source": [
    "\n",
    "# Limpieza y Transformación de Datos\n",
    "\n",
    "# Revisar valores nulos\n",
    "df.isnull().sum()\n",
    "\n",
    "# Manejar valores nulos (en este caso, reemplazar con la mediana)\n",
    "df['HasCrCard'].fillna(df['HasCrCard'].median(), inplace=True)\n",
    "df['IsActiveMember'].fillna(df['IsActiveMember'].median(), inplace=True)\n",
    "\n",
    "# Codificación de variables categóricas\n",
    "df = pd.get_dummies(df, columns=['Geography', 'Gender'], drop_first=True)\n",
    "\n",
    "# Normalización de variables numéricas (opcional, dependiendo del análisis)\n",
    "from sklearn.preprocessing import StandardScaler\n",
    "scaler = StandardScaler()\n",
    "df[['CreditScore', 'Age', 'Tenure', 'Balance', 'NumOfProducts', 'EstimatedSalary']] = scaler.fit_transform(\n",
    "    df[['CreditScore', 'Age', 'Tenure', 'Balance', 'NumOfProducts', 'EstimatedSalary']]\n",
    ")\n",
    "\n",
    "# Revisar los datos después de la transformación\n",
    "df.head()\n"
   ]
  },
  {
   "cell_type": "code",
   "execution_count": null,
   "id": "ad032f9f",
   "metadata": {},
   "outputs": [],
   "source": [
    "\n",
    "import matplotlib.pyplot as plt\n",
    "import seaborn as sns\n",
    "\n",
    "# Distribución de la variable objetivo 'Exited'\n",
    "plt.figure(figsize=(8, 6))\n",
    "sns.countplot(x='Exited', data=df)\n",
    "plt.title('Distribución de clientes que abandonaron el banco')\n",
    "plt.show()\n",
    "\n",
    "# Análisis de la relación entre la puntuación crediticia y el abandono\n",
    "plt.figure(figsize=(8, 6))\n",
    "sns.boxplot(x='Exited', y='CreditScore', data=df)\n",
    "plt.title('Puntuación crediticia vs Abandono')\n",
    "plt.show()\n",
    "\n",
    "# Correlación de variables\n",
    "plt.figure(figsize=(12, 8))\n",
    "sns.heatmap(df.corr(), annot=True, fmt='.2f')\n",
    "plt.title('Matriz de correlación')\n",
    "plt.show()\n"
   ]
  }
 ],
 "metadata": {},
 "nbformat": 4,
 "nbformat_minor": 5
}
